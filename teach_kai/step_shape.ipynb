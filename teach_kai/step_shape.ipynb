{
 "cells": [
  {
   "cell_type": "code",
   "execution_count": null,
   "metadata": {},
   "outputs": [],
   "source": [
    "def step_shape(n):\n",
    "    v = 0\n",
    "    for i in range(n+1):\n",
    "        v += i\n",
    "    return v"
   ]
  },
  {
   "cell_type": "code",
   "execution_count": null,
   "metadata": {},
   "outputs": [],
   "source": [
    "def is_step_shape(v):\n",
    "    biggest_step_shape = 0\n",
    "    for i in range(v):\n",
    "        _step_shape = step_shape(i)\n",
    "        if _step_shape == v:\n",
    "            return True, v\n",
    "        if _step_shape > v:\n",
    "            return False, biggest_step_shape\n",
    "        else:\n",
    "            biggest_step_shape = _step_shape\n",
    "    return False, biggest_step_shape"
   ]
  },
  {
   "cell_type": "code",
   "execution_count": null,
   "metadata": {},
   "outputs": [],
   "source": [
    "step_shape(0)"
   ]
  },
  {
   "cell_type": "code",
   "execution_count": null,
   "metadata": {},
   "outputs": [],
   "source": [
    "is_step_shape(67)"
   ]
  },
  {
   "cell_type": "code",
   "execution_count": null,
   "metadata": {},
   "outputs": [],
   "source": [
    "def count(n):\n",
    "    for i in range(int(n)):\n",
    "        a = i\n",
    "    return a"
   ]
  },
  {
   "cell_type": "code",
   "execution_count": null,
   "metadata": {},
   "outputs": [],
   "source": [
    "count(1e9)"
   ]
  },
  {
   "cell_type": "code",
   "execution_count": null,
   "metadata": {},
   "outputs": [],
   "source": [
    "1e6"
   ]
  },
  {
   "cell_type": "code",
   "execution_count": null,
   "metadata": {},
   "outputs": [],
   "source": []
  }
 ],
 "metadata": {
  "kernelspec": {
   "display_name": "Python 3.8.10 ('precog')",
   "language": "python",
   "name": "python3"
  },
  "language_info": {
   "codemirror_mode": {
    "name": "ipython",
    "version": 3
   },
   "file_extension": ".py",
   "mimetype": "text/x-python",
   "name": "python",
   "nbconvert_exporter": "python",
   "pygments_lexer": "ipython3",
   "version": "3.8.10"
  },
  "orig_nbformat": 4,
  "vscode": {
   "interpreter": {
    "hash": "20f0e724fc7f7e92ae354c15838256c68cb641bedbf0dd8d406938a1da55b7e6"
   }
  }
 },
 "nbformat": 4,
 "nbformat_minor": 2
}
